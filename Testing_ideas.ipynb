{
 "cells": [
  {
   "cell_type": "code",
   "execution_count": null,
   "metadata": {
    "pycharm": {
     "name": "#%%\n"
    }
   },
   "outputs": [],
   "source": [
    "# for google colaboratory\n",
    "from os import path\n",
    "if 'google.colab' in str(get_ipython()):\n",
    "    files = ['LLD-icon-sharp.hdf5', 'embed_train.zip']\n",
    "    !pip install wget\n",
    "    !pip install transformers\n",
    "    import wget\n",
    "    import shutil\n",
    "    from google.colab import drive\n",
    "    drive.mount('/content/drive')\n",
    "    !mkdir Data\n",
    "    for f in files:\n",
    "        if not path.isfile('Data/' + f):\n",
    "            if path.isfile('/content/drive/My Drive/Colab/AFRO/' + f):\n",
    "                shutil.copy('/content/drive/My Drive/Colab/AFRO/' + f, 'Data')\n",
    "            else:\n",
    "                wget.download('https://data.vision.ee.ethz.ch/sagea/lld/data/' + f, 'Data')\n",
    "    !unzip -q -n Data/embed_train.zip"
   ]
  },
  {
   "cell_type": "code",
   "execution_count": null,
   "metadata": {
    "pycharm": {
     "name": "#%%\n"
    }
   },
   "outputs": [],
   "source": [
    "# for debugging ------\n",
    "from importlib import reload\n",
    "import utils\n",
    "utils = reload(utils)\n",
    "from utils import lemmatize_and_clearing\n",
    "# -------------------\n",
    "\n",
    "import h5py\n",
    "import numpy as np\n",
    "import pandas as pd\n",
    "from tqdm import notebook\n",
    "import matplotlib.pyplot as plt\n",
    "%matplotlib inline\n",
    "\n",
    "import nltk\n",
    "\n",
    "import torch\n",
    "import torch.nn as nn\n",
    "from IPython.display import clear_output\n",
    "from torch.utils.data import DataLoader\n",
    "\n",
    "device = torch.device('cuda' if torch.cuda.is_available() else 'cpu')\n",
    "print(device)"
   ]
  },
  {
   "cell_type": "markdown",
   "metadata": {},
   "source": [
    "# Open data"
   ]
  },
  {
   "cell_type": "markdown",
   "metadata": {},
   "source": [
    "## icon-sharp"
   ]
  },
  {
   "cell_type": "code",
   "execution_count": null,
   "metadata": {},
   "outputs": [],
   "source": [
    "files = h5py.File('Data/LLD-icon-sharp.hdf5', 'r')"
   ]
  },
  {
   "cell_type": "code",
   "execution_count": null,
   "metadata": {},
   "outputs": [],
   "source": [
    "files.keys()"
   ]
  },
  {
   "cell_type": "code",
   "execution_count": null,
   "metadata": {},
   "outputs": [],
   "source": [
    "clusters = files['labels/resnet/rc_128']\n",
    "names = files['meta_data/names'][()].astype(str)\n",
    "images = files['data']"
   ]
  },
  {
   "cell_type": "markdown",
   "metadata": {},
   "source": [
    "# Work with labels"
   ]
  },
  {
   "cell_type": "code",
   "execution_count": null,
   "metadata": {},
   "outputs": [],
   "source": [
    "nltk.download('stopwords')\n",
    "nltk.download('wordnet')"
   ]
  },
  {
   "cell_type": "code",
   "execution_count": null,
   "metadata": {},
   "outputs": [],
   "source": [
    "lem_names =  map(lemmatize_and_clearing, names)"
   ]
  },
  {
   "cell_type": "markdown",
   "metadata": {},
   "source": [
    "## Download bert files and berting all that is possible"
   ]
  },
  {
   "cell_type": "code",
   "execution_count": null,
   "metadata": {},
   "outputs": [],
   "source": [
    "# tokenizer = BertTokenizer.from_pretrained(\"bert-base-uncased\")\n",
    "# tokenizer.add_special_tokens({'pad_token': '[PAD]'})\n",
    "\n",
    "# tok_names = tokenizer(list(lem_names), padding=True, return_tensors=\"pt\")\n",
    "\n",
    "# model = BertModel.from_pretrained('bert-base-uncased', return_dict=True)\n",
    "# model = model.to(device)\n",
    "\n",
    "# batch_size = 10\n",
    "# dataloader = DataLoader(tok_names['input_ids'], batch_size=batch_size)\n",
    "\n",
    "# embed_and_write_file(dataloader, model, device, 'embed_train.csv')"
   ]
  },
  {
   "cell_type": "code",
   "execution_count": null,
   "outputs": [],
   "source": [
    "df = pd.read_csv('Data/embed_train.csv', header=None)"
   ],
   "metadata": {
    "collapsed": false,
    "pycharm": {
     "name": "#%%\n"
    }
   }
  },
  {
   "cell_type": "code",
   "execution_count": null,
   "outputs": [],
   "source": [
    "class Generator(nn.Module):\n",
    "    def __init__(self):\n",
    "        super(Generator, self).__init__()\n",
    "\n",
    "        dim = 3\n",
    "\n",
    "        self.features_to_image = nn.Sequential(\n",
    "            nn.Conv2d(in_channels=3, out_channels=4*dim,\n",
    "                               kernel_size=3, padding=1),\n",
    "            nn.ReLU(),\n",
    "            nn.BatchNorm2d(4 * dim),\n",
    "            nn.ConvTranspose2d(4 * dim, 3 * dim, 4, 2, 1),\n",
    "            nn.ReLU(),\n",
    "            nn.BatchNorm2d(3 * dim),\n",
    "            nn.Conv2d(3 * dim, 2*dim, 3, 1, 1),\n",
    "            nn.ReLU(),\n",
    "            nn.BatchNorm2d(2*dim),\n",
    "            nn.Conv2d(2*dim, dim, 3, 1, 1),\n",
    "            nn.Sigmoid()\n",
    "        )\n",
    "\n",
    "    def forward(self, input_data):\n",
    "        return self.features_to_image(input_data)"
   ],
   "metadata": {
    "collapsed": false,
    "pycharm": {
     "name": "#%%\n"
    }
   }
  },
  {
   "cell_type": "code",
   "execution_count": null,
   "outputs": [],
   "source": [
    "ix = np.arange(len(df))\n",
    "# np.random.shuffle(ix)\n",
    "tr, val, ts = np.split(ix, [len(df)//2, len(df)//2 + len(df)//4])\n",
    "print(len(tr), len(val), len(ts))"
   ],
   "metadata": {
    "collapsed": false,
    "pycharm": {
     "name": "#%%\n"
    }
   }
  },
  {
   "cell_type": "code",
   "execution_count": null,
   "outputs": [],
   "source": [
    "batch_size = 20\n",
    "train_dataloader = DataLoader(list(zip(df.iloc[tr].values, images[tr])), batch_size=batch_size, shuffle=True)\n",
    "val_dataloader = DataLoader(list(zip(df.iloc[val].values, images[val])), batch_size=batch_size)"
   ],
   "metadata": {
    "collapsed": false,
    "pycharm": {
     "name": "#%%\n"
    }
   }
  },
  {
   "cell_type": "code",
   "execution_count": null,
   "outputs": [],
   "source": [
    "def train(model, opt, loss_fn, epochs, data_tr, data_val):\n",
    "    X_val, Y_val = next(iter(data_val))\n",
    "    X_val = torch.as_tensor(X_val, dtype=torch.float, device=device)\n",
    "    for epoch in range(epochs):\n",
    "        print('* Epoch %d/%d' % (epoch+1, epochs))\n",
    "        avg_loss = 0\n",
    "        model.train()  # train mode\n",
    "        with notebook.tqdm(total=len(data_tr)) as progress_bar:\n",
    "            for step, (X_batch, Y_batch) in enumerate(data_tr):\n",
    "                # data to device\n",
    "                X_batch = torch.as_tensor(X_batch, dtype=torch.float, device=device)\n",
    "                Y_batch = Y_batch.to(device) / 255.\n",
    "                # set parameter gradients to zero\n",
    "                opt.zero_grad()\n",
    "                # forward\n",
    "                Y_pred = model(X_batch.view(-1, 3, 16, 16))\n",
    "                loss = loss_fn(Y_batch, Y_pred) # forward-pass\n",
    "                avg_loss += loss.item()\n",
    "                loss = loss.backward() # backward-pass\n",
    "                opt.step()  # update weights\n",
    "                progress_bar.set_description('loss: %f' % (avg_loss/(step+1)))\n",
    "                progress_bar.update()\n",
    "\n",
    "            # calculate loss to show the user\n",
    "        avg_loss = avg_loss / len(data_tr)\n",
    "        # print('loss: %f' % avg_loss)\n",
    "\n",
    "        # show intermediate results\n",
    "        model.eval()  # testing mode\n",
    "        Y_hat = model(X_val.view(-1, 3, 16, 16)).detach().cpu().numpy() # detach and put into cpu\n",
    "        # Visualize tools\n",
    "        clear_output(wait=True)\n",
    "        for k in range(6):\n",
    "            plt.subplot(2, 6, k+1)\n",
    "            plt.imshow(np.moveaxis(Y_val[k].numpy(), 0, 2))\n",
    "            plt.title('Real')\n",
    "            plt.axis('off')\n",
    "\n",
    "            plt.subplot(2, 6, k+7)\n",
    "            plt.imshow(np.moveaxis(Y_hat[k], 0, 2))\n",
    "            plt.title('Output')\n",
    "            plt.axis('off')\n",
    "        plt.suptitle('%d / %d - loss: %f' % (epoch+1, epochs, avg_loss))\n",
    "        plt.show()"
   ],
   "metadata": {
    "collapsed": false,
    "pycharm": {
     "name": "#%%\n"
    }
   }
  },
  {
   "cell_type": "code",
   "execution_count": null,
   "outputs": [],
   "source": [
    "gen = Generator()\n",
    "gen = gen.to(device)"
   ],
   "metadata": {
    "collapsed": false,
    "pycharm": {
     "name": "#%%\n"
    }
   }
  },
  {
   "cell_type": "code",
   "execution_count": null,
   "outputs": [],
   "source": [
    "max_epochs = 1\n",
    "loss_func = nn.MSELoss()\n",
    "optim = torch.optim.Adam(gen.parameters(), lr=1e-3)\n",
    "train(gen, optim, loss_func, max_epochs, train_dataloader, val_dataloader)"
   ],
   "metadata": {
    "collapsed": false,
    "pycharm": {
     "name": "#%%\n"
    }
   }
  },
  {
   "cell_type": "markdown",
   "metadata": {},
   "source": [
    "# Create text and add to icon"
   ]
  },
  {
   "cell_type": "code",
   "execution_count": null,
   "metadata": {},
   "outputs": [],
   "source": [
    "# custom module ---\n",
    "import utils\n",
    "utils = reload(utils)\n",
    "from utils import add_text_to_img\n",
    "# ------------------"
   ]
  },
  {
   "cell_type": "code",
   "execution_count": null,
   "metadata": {},
   "outputs": [],
   "source": [
    "from skimage.transform import resize\n",
    "size = (128, 128)\n",
    "img = resize(np.moveaxis(images[2], 0, -1), size, mode='constant', anti_aliasing=True,)\n"
   ]
  },
  {
   "cell_type": "code",
   "execution_count": null,
   "metadata": {},
   "outputs": [],
   "source": [
    "plt.imshow(img)"
   ]
  },
  {
   "cell_type": "code",
   "execution_count": null,
   "metadata": {},
   "outputs": [],
   "source": [
    "img.shape"
   ]
  },
  {
   "cell_type": "code",
   "execution_count": null,
   "metadata": {
    "pycharm": {
     "name": "#%%\n"
    }
   },
   "outputs": [],
   "source": [
    "plt.imshow(add_text_to_img('Hello', img))\n"
   ]
  }
 ],
 "metadata": {
  "kernelspec": {
   "display_name": "Python 3",
   "language": "python",
   "name": "python3"
  },
  "language_info": {
   "codemirror_mode": {
    "name": "ipython",
    "version": 3
   },
   "file_extension": ".py",
   "mimetype": "text/x-python",
   "name": "python",
   "nbconvert_exporter": "python",
   "pygments_lexer": "ipython3",
   "version": "3.7.6"
  }
 },
 "nbformat": 4,
 "nbformat_minor": 1
}