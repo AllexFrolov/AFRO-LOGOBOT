{
 "cells": [
  {
   "cell_type": "code",
   "execution_count": null,
   "metadata": {
    "pycharm": {
     "name": "#%%\n"
    }
   },
   "outputs": [],
   "source": [
    "# for google colaboratory\n",
    "from os import path\n",
    "import sys\n",
    "if 'google' in sys.modules:\n",
    "    files = ['LLD-icon-names.pkl', 'LLD-icon_PKL.zip', 'LLD-icon-sharp.hdf5', \n",
    "             'LLD-icon-sharp_indices.pkl']\n",
    "    !pip install wget\n",
    "    import wget\n",
    "    import shutil\n",
    "    from google.colab import drive\n",
    "    drive.mount('/content/drive')\n",
    "    !mkdir Data\n",
    "    for f in files:\n",
    "        if not path.isfile('Data/' + f):\n",
    "            if path.isfile('/content/drive/My Drive/Colab/AFRO/' + f):\n",
    "                shutil.copy('/content/drive/My Drive/Colab/AFRO/' + f, 'Data')\n",
    "            else:\n",
    "                wget.download('https://data.vision.ee.ethz.ch/sagea/lld/data/' + f, 'Data')\n",
    "    !unzip -q -n Data/LLD-icon_PKL.zip -d Data"
   ]
  },
  {
   "cell_type": "code",
   "execution_count": null,
   "metadata": {
    "pycharm": {
     "name": "#%%\n"
    }
   },
   "outputs": [],
   "source": [
    "# for debugging ------\n",
    "from importlib import reload\n",
    "# -------------------\n",
    "import pickle\n",
    "import h5py\n",
    "import numpy as np\n",
    "import matplotlib.pyplot as plt\n",
    "%matplotlib inline"
   ]
  },
  {
   "cell_type": "markdown",
   "metadata": {},
   "source": [
    "# Open data"
   ]
  },
  {
   "cell_type": "markdown",
   "metadata": {},
   "source": [
    "## icon-sharp"
   ]
  },
  {
   "cell_type": "code",
   "execution_count": null,
   "metadata": {},
   "outputs": [],
   "source": [
    "files = h5py.File('Data/LLD-icon-sharp.hdf5', 'r')"
   ]
  },
  {
   "cell_type": "code",
   "execution_count": null,
   "metadata": {},
   "outputs": [],
   "source": [
    "files.keys()"
   ]
  },
  {
   "cell_type": "code",
   "execution_count": null,
   "metadata": {},
   "outputs": [],
   "source": [
    "clusters = files['labels/resnet/rc_128']\n",
    "names = files['meta_data/names']\n",
    "images = files['data']"
   ]
  },
  {
   "cell_type": "markdown",
   "metadata": {},
   "source": [
    "### show clasters"
   ]
  },
  {
   "cell_type": "code",
   "execution_count": null,
   "metadata": {},
   "outputs": [],
   "source": [
    "unique = len(set(clusters[()]))\n",
    "samples = 8\n",
    "fig, axs = plt.subplots(unique, samples, figsize=(10, 50))\n",
    "for i in range(unique):\n",
    "        indices = np.argwhere(clusters[()]==i)\n",
    "        for j in range(8):\n",
    "                axs[i,j].imshow(np.moveaxis(images[indices[j]], 1, -1).squeeze(0))\n",
    "                axs[i,j].axis('off')"
   ]
  },
  {
   "cell_type": "markdown",
   "metadata": {},
   "source": [
    "## icon_data"
   ]
  },
  {
   "cell_type": "code",
   "execution_count": null,
   "metadata": {},
   "outputs": [],
   "source": [
    "with open('Data/LLD-icon/LLD-icon_data_0.pkl', 'rb') as f:\n",
    "    data = pickle.load(f, encoding='latin1')"
   ]
  },
  {
   "cell_type": "code",
   "execution_count": null,
   "metadata": {},
   "outputs": [],
   "source": [
    "data.shape"
   ]
  },
  {
   "cell_type": "code",
   "execution_count": null,
   "metadata": {},
   "outputs": [],
   "source": [
    "plt.imshow(data[1])"
   ]
  },
  {
   "cell_type": "code",
   "execution_count": null,
   "metadata": {},
   "outputs": [],
   "source": [
    "with open('Data/LLD-icon-names.pkl', 'rb') as f:\n",
    "    labels = pickle.load(f)"
   ]
  },
  {
   "cell_type": "code",
   "execution_count": null,
   "metadata": {},
   "outputs": [],
   "source": [
    "len(labels)"
   ]
  },
  {
   "cell_type": "markdown",
   "metadata": {},
   "source": [
    "# Create text and add to icon"
   ]
  },
  {
   "cell_type": "code",
   "execution_count": null,
   "metadata": {},
   "outputs": [],
   "source": [
    "import albumentations as A\n",
    "import cv2 as cv\n",
    "# custom module --- \n",
    "import utils\n",
    "utils = reload(utils)\n",
    "from utils import convert_to_pic\n",
    "# ------------------"
   ]
  },
  {
   "cell_type": "code",
   "execution_count": null,
   "metadata": {},
   "outputs": [],
   "source": [
    "img2 = convert_to_pic('McDonald')\n",
    "tr = A.Resize(128, 128, cv.INTER_CUBIC)\n",
    "img1 = tr(image=data[5])['image']\n",
    "\n",
    "brows, bcols = img1.shape[:2]\n",
    "rows,cols,channels = img2.shape\n",
    "\n",
    "roi = img1[int(brows/2)-int(rows/2):int(brows/2)+int(rows/2), int(bcols/2)- \n",
    "int(cols/2):int(bcols/2)+int(cols/2) ]\n",
    "\n",
    "img2gray = cv.cvtColor(img2,cv.COLOR_BGR2GRAY)\n",
    "ret, mask = cv.threshold(img2gray, 10, 255, cv.THRESH_BINARY)\n",
    "mask_inv = cv.bitwise_not(mask)\n",
    "\n",
    "img1_bg = cv.bitwise_and(roi,roi,mask = mask_inv)\n",
    "\n",
    "img2_fg = cv.bitwise_and(img2,img2,mask = mask)\n",
    "\n",
    "dst = cv.add(img1_bg,img2_fg)\n",
    "img1[int(brows/2)-int(rows/2):int(brows/2)+int(rows/2), int(bcols/2)- \n",
    "int(cols/2):int(bcols/2)+int(cols/2) ] = dst"
   ]
  },
  {
   "cell_type": "code",
   "execution_count": null,
   "metadata": {},
   "outputs": [],
   "source": [
    "plt.imshow(dst)"
   ]
  }
 ],
 "metadata": {
  "kernelspec": {
   "display_name": "Python 3",
   "language": "python",
   "name": "python3"
  },
  "language_info": {
   "codemirror_mode": {
    "name": "ipython",
    "version": 3
   },
   "file_extension": ".py",
   "mimetype": "text/x-python",
   "name": "python",
   "nbconvert_exporter": "python",
   "pygments_lexer": "ipython3",
   "version": "3.7.6"
  }
 },
 "nbformat": 4,
 "nbformat_minor": 1
}